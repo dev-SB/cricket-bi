{
 "cells": [
  {
   "cell_type": "markdown",
   "metadata": {
    "colab_type": "text",
    "id": "view-in-github"
   },
   "source": [
    "<a href=\"https://colab.research.google.com/github/dev-SB/cricket-bi/blob/master/bi_cricket.ipynb\" target=\"_parent\"><img src=\"https://colab.research.google.com/assets/colab-badge.svg\" alt=\"Open In Colab\"/></a>"
   ]
  },
  {
   "cell_type": "code",
   "execution_count": 1,
   "metadata": {
    "colab": {
     "base_uri": "https://localhost:8080/",
     "height": 145
    },
    "colab_type": "code",
    "id": "xE_9w-OxNpS8",
    "outputId": "e995e9a0-d6f6-4a1b-803d-31ff89f26df3"
   },
   "outputs": [
    {
     "name": "stdout",
     "output_type": "stream",
     "text": [
      "Go to this URL in a browser: https://accounts.google.com/o/oauth2/auth?client_id=947318989803-6bn6qk8qdgf4n4g3pfee6491hc0brc4i.apps.googleusercontent.com&redirect_uri=urn%3Aietf%3Awg%3Aoauth%3A2.0%3Aoob&scope=email%20https%3A%2F%2Fwww.googleapis.com%2Fauth%2Fdocs.test%20https%3A%2F%2Fwww.googleapis.com%2Fauth%2Fdrive%20https%3A%2F%2Fwww.googleapis.com%2Fauth%2Fdrive.photos.readonly%20https%3A%2F%2Fwww.googleapis.com%2Fauth%2Fpeopleapi.readonly&response_type=code\n",
      "\n",
      "Enter your authorization code:\n",
      "··········\n",
      "Mounted at /gdrive\n",
      "/gdrive\n"
     ]
    }
   ],
   "source": [
    "from google.colab import drive\n",
    "drive.mount('/gdrive')\n",
    "%cd /gdrive"
   ]
  },
  {
   "cell_type": "code",
   "execution_count": 1,
   "metadata": {
    "ExecuteTime": {
     "end_time": "2019-10-10T20:34:52.820772Z",
     "start_time": "2019-10-10T20:34:52.816114Z"
    },
    "colab": {},
    "colab_type": "code",
    "id": "izwDcBDNMBbF"
   },
   "outputs": [],
   "source": [
    "import pandas as pd\n",
    "import os"
   ]
  },
  {
   "cell_type": "code",
   "execution_count": 2,
   "metadata": {
    "ExecuteTime": {
     "end_time": "2019-10-10T20:34:52.845185Z",
     "start_time": "2019-10-10T20:34:52.824972Z"
    },
    "colab": {},
    "colab_type": "code",
    "id": "M91xXzOpMBbM"
   },
   "outputs": [],
   "source": [
    "files=[file for dirpath,directory,file in os.walk('./all_csv/')][0]\n",
    "# files=[file for dirpath,directory,file in os.walk(r'/gdrive/My Drive/all_csv/')][0]"
   ]
  },
  {
   "cell_type": "code",
   "execution_count": 3,
   "metadata": {
    "ExecuteTime": {
     "end_time": "2019-10-10T20:34:52.971260Z",
     "start_time": "2019-10-10T20:34:52.860220Z"
    },
    "colab": {},
    "colab_type": "code",
    "id": "kd8d-XkgMBbQ"
   },
   "outputs": [],
   "source": [
    "match_data=pd.DataFrame(data=None)\n",
    "odi_scorecard=pd.DataFrame(data=None)\n",
    "ttwenty_scorecard=pd.DataFrame(data=None)\n",
    "odi_info=pd.DataFrame(data=None)\n",
    "ttwenty_info=pd.DataFrame(data=None)"
   ]
  },
  {
   "cell_type": "code",
   "execution_count": 4,
   "metadata": {
    "ExecuteTime": {
     "end_time": "2019-10-10T20:34:53.141844Z",
     "start_time": "2019-10-10T20:34:52.973752Z"
    },
    "colab": {},
    "colab_type": "code",
    "id": "rz89lpJKMBbT"
   },
   "outputs": [],
   "source": [
    "def rename_date_umpire(index_list):\n",
    "    n=0\n",
    "    for i in range(index_list.__len__()):\n",
    "        if str.lower(index_list[i]).strip()=='date':\n",
    "            index_list[i]+='_'+str(n)\n",
    "            n+=1\n",
    "    n=0\n",
    "    for i in range(index_list.__len__()):\n",
    "        if str.lower(index_list[i]).strip()=='umpire':\n",
    "            index_list[i]+='_'+str(n)\n",
    "            n+=1\n",
    "    return index_list"
   ]
  },
  {
   "cell_type": "code",
   "execution_count": 5,
   "metadata": {
    "ExecuteTime": {
     "end_time": "2019-10-10T20:34:53.283066Z",
     "start_time": "2019-10-10T20:34:53.148682Z"
    },
    "colab": {},
    "colab_type": "code",
    "id": "B-adMfgDMBbW"
   },
   "outputs": [],
   "source": [
    "def find_game(df_game,df_info):\n",
    "    if 'series' in df_info.columns:\n",
    "        if 'odi' in str.lower(df_info.iloc[0]['series']):\n",
    "            return 'odi'\n",
    "        if 't20i' in str.lower(df_info.iloc[0]['series']):\n",
    "            return 'twenty'\n",
    "    if max(df_game['balls_bowl'])<=24:\n",
    "        return 'twenty'\n",
    "    if 24<max(df_game['balls_bowl'])<=60:\n",
    "        return 'odi'\n",
    "    return"
   ]
  },
  {
   "cell_type": "code",
   "execution_count": 6,
   "metadata": {
    "ExecuteTime": {
     "end_time": "2019-10-10T20:34:53.362296Z",
     "start_time": "2019-10-10T20:34:53.289288Z"
    },
    "colab": {},
    "colab_type": "code",
    "id": "342j7KX4MBbZ"
   },
   "outputs": [],
   "source": [
    "def append_file(temp_df,temp_info_df,type_game):\n",
    "    global odi_scorecard\n",
    "    global ttwenty_scorecard\n",
    "    global odi_info\n",
    "    global ttwenty_info\n",
    "    if type_game=='odi':\n",
    "        odi_scorecard=odi_scorecard.append(temp_df,ignore_index=True)\n",
    "        odi_info=odi_info.append(temp_info_df,ignore_index=True)\n",
    "    elif type_game=='twenty':\n",
    "        ttwenty_scorecard=ttwenty_scorecard.append(temp_df,ignore_index=True)\n",
    "        ttwenty_info=ttwenty_info.append(temp_info_df,ignore_index=True)"
   ]
  },
  {
   "cell_type": "code",
   "execution_count": 7,
   "metadata": {
    "ExecuteTime": {
     "end_time": "2019-10-10T20:34:53.459956Z",
     "start_time": "2019-10-10T20:34:53.367490Z"
    },
    "colab": {},
    "colab_type": "code",
    "id": "CHyMUqyeMBbc"
   },
   "outputs": [],
   "source": [
    "def get_extras_type(match_data):\n",
    "    list_extras=[]\n",
    "    for index,row in match_data.iterrows():\n",
    "        ov=str(row['over']).split('.')\n",
    "        ball_no=int(ov[1])\n",
    "        over_no=int(ov[0])\n",
    "        if row['extras']!=0:\n",
    "            if (row['extras']==1 or row['extras']==3) and index+1<match_data.shape[0] and (match_data.loc[index+1,'striker']==row['non-striker'] or match_data.loc[index+1,'non-striker']==row['striker']):\n",
    "                match_data.loc[index,'extras_type']='b'\n",
    "            else:\n",
    "                list_extras.append(index)\n",
    "        if ball_no>6:\n",
    "            if len(list_extras)>0:\n",
    "                match_data.loc[list_extras.pop(-1),'extras_type']='w'\n",
    "    for i in list_extras:\n",
    "        match_data.loc[i,'extras_type']='b'\n",
    "    return match_data"
   ]
  },
  {
   "cell_type": "code",
   "execution_count": 8,
   "metadata": {
    "ExecuteTime": {
     "end_time": "2019-10-10T20:34:53.552395Z",
     "start_time": "2019-10-10T20:34:53.469059Z"
    },
    "colab": {},
    "colab_type": "code",
    "id": "KbDxhRAMMBbf"
   },
   "outputs": [],
   "source": [
    "def prepare_scorecard(match_data):\n",
    "    match_data=get_extras_type(match_data)\n",
    "#     print(match_data[match_data['bowler']==\t'Mashrafe Mortaza'])\n",
    "    players=list((match_data['striker'].append(match_data['non-striker']).append(match_data['bowler'])).unique())\n",
    "    #     to make 22 players if any player has not played\n",
    "#     for i in range(len(players),22):\n",
    "#         players.append('p_'+str(i))\n",
    "#         fow\n",
    "#     player_stats=['match_no','bats_innings','name','position','over_batting','score','balls_bat','ones','twos','threes','fours','sixes','out','balls_bowl','maidens','runs_bowled','wickets','bowler_extras','wicket_score','wicket_overs','wicket_no','fow','fow_runs','fow_overs','fow_batsman','fow_bowler']\n",
    "    player_stats=['match_no','bats_innings','name','position','over_batting','score','balls_bat','ones','twos','threes','fours','sixes','out','balls_bowl','maidens','runs_bowled','wickets','bowler_extras','wicket_score','wicket_overs','wicket_no']\n",
    "    player_data={key:{key_type:0 for key_type in player_stats} for key in players}\n",
    "    for p in players:\n",
    "        player_data[p]['match_no']=match_data.loc[0,'file_no']\n",
    "        player_data[p]['name']=p\n",
    "    team_score=0\n",
    "    balls=0\n",
    "    pos=1\n",
    "    inning=False\n",
    "    w=1\n",
    "    p_no=1\n",
    "    w_no=1\n",
    "    for index, row in match_data.iterrows():\n",
    "        print(row)\n",
    "        ov=str(row['over']).split('.')\n",
    "        print(ov)\n",
    "        ball_no=int(ov[1])\n",
    "        over_no=int(ov[0])\n",
    "        if over_no>50:\n",
    "          player_data=[value for key, value in player_data.items()]\n",
    "          scorecard=pd.DataFrame(data=player_data)\n",
    "          scorecard=scorecard[player_stats]\n",
    "          return scorecard\n",
    "        if row['over']==0.1:\n",
    "            pos=1\n",
    "            w=1\n",
    "            team_score=0\n",
    "            w_no=1\n",
    "            runs_over=0\n",
    "            # if row['innings']!=1:\n",
    "            #     p_no=12\n",
    "        if row['runs']==1:\n",
    "            player_data[row['striker']]['ones']+=1\n",
    "        elif row['runs']==2:\n",
    "            player_data[row['striker']]['twos']+=1\n",
    "        elif row['runs']==3:\n",
    "            player_data[row['striker']]['threes']+=1\n",
    "        elif row['runs']==4:\n",
    "            player_data[row['striker']]['fours']+=1\n",
    "        elif row['runs']==6:\n",
    "            player_data[row['striker']]['sixes']+=1\n",
    "\n",
    "        if player_data[row['striker']]['position']==0:\n",
    "            player_data[row['striker']]['position']=pos\n",
    "            player_data[row['striker']]['over_batting']=row['over']\n",
    "            pos+=1\n",
    "        if player_data[row['non-striker']]['position']==0:\n",
    "            player_data[row['non-striker']]['position']=pos\n",
    "            player_data[row['non-striker']]['over_batting']=row['over']\n",
    "            pos+=1\n",
    "    # wicket\n",
    "#         print(row['out-player'])\n",
    "        if not pd.isna(row['out-player']):\n",
    "            player_data[row['out-player']]['out']=True\n",
    "#             fow\n",
    "#             player_data[players[p_no-1]]['fow']=w\n",
    "#             player_data[players[p_no-1]]['fow_runs']=team_score\n",
    "#             player_data[players[p_no-1]]['fow_overs']=row['over']\n",
    "#             player_data[players[p_no-1]]['fow_batsman']=row['out-player']\n",
    "#             player_data[players[p_no-1]]['fow_bowler']=row['bowler']\n",
    "            p_no+=1\n",
    "            w+=1\n",
    "            if row['out']!='run out':\n",
    "                player_data[row['bowler']]['wickets']+=1\n",
    "            player_data[row['out-player']]['wicket_score']=team_score\n",
    "            player_data[row['out-player']]['wicket_overs']=row['over']\n",
    "            player_data[row['out-player']]['wicket_no']=w_no\n",
    "            w_no+=1\n",
    "\n",
    "        team_score+=row['runs']+row['extras']\n",
    "        runs_over+=row['runs']\n",
    "        if row['extras']!=0 and row['extras_type']=='w':\n",
    "            runs_over+=1\n",
    "            player_data[row['bowler']]['bowler_extras']+=1\n",
    "            player_data[row['striker']]['score']+=row['extras']-1\n",
    "            player_data[row['bowler']]['runs_bowled']+=row['extras']-1\n",
    "        elif row['extras']!=0:\n",
    "#             print(row)\n",
    "            player_data[row['bowler']]['balls_bowl']+=1\n",
    "            player_data[row['striker']]['balls_bat']+=1\n",
    "        else:\n",
    "            player_data[row['striker']]['score']+=row['runs']\n",
    "            player_data[row['striker']]['balls_bat']+=1\n",
    "            player_data[row['bowler']]['balls_bowl']+=1\n",
    "            player_data[row['bowler']]['runs_bowled']+=row['runs']\n",
    "        if ball_no>=6:\n",
    "            if ball_no==6 and runs_over==0:\n",
    "                player_data[row['bowler']]['maidens']+=1\n",
    "            runs_over=0\n",
    "        player_data[row['striker']]['bats_innings']=row['innings']\n",
    "        if row['innings']==1:\n",
    "            player_data[row['bowler']]['bats_innings']=2\n",
    "        else:\n",
    "            player_data[row['bowler']]['bats_innings']=1\n",
    "#     print(player_data)\n",
    "    player_data=[value for key, value in player_data.items()]\n",
    "    scorecard=pd.DataFrame(data=player_data)\n",
    "    scorecard=scorecard[player_stats]\n",
    "    return scorecard"
   ]
  },
  {
   "cell_type": "code",
   "execution_count": 12,
   "metadata": {
    "ExecuteTime": {
     "end_time": "2019-10-10T20:35:50.058959Z",
     "start_time": "2019-10-10T20:35:49.836240Z"
    },
    "colab": {
     "base_uri": "https://localhost:8080/",
     "height": 412
    },
    "colab_type": "code",
    "id": "vcQJdDFhMBbi",
    "outputId": "90c39789-4a21-43a0-f09b-4ec3d8acf0cb"
   },
   "outputs": [
    {
     "name": "stdout",
     "output_type": "stream",
     "text": [
      "0 -- 1030217.csv\n"
     ]
    },
    {
     "ename": "IndexError",
     "evalue": "list index out of range",
     "output_type": "error",
     "traceback": [
      "\u001b[0;31m---------------------------------------------------------------------------\u001b[0m",
      "\u001b[0;31mIndexError\u001b[0m                                Traceback (most recent call last)",
      "\u001b[0;32m<ipython-input-12-a19c8d22f781>\u001b[0m in \u001b[0;36m<module>\u001b[0;34m\u001b[0m\n\u001b[1;32m     33\u001b[0m     \u001b[0mtemp_df\u001b[0m\u001b[0;34m=\u001b[0m\u001b[0mtemp_df\u001b[0m\u001b[0;34m.\u001b[0m\u001b[0mdrop\u001b[0m\u001b[0;34m(\u001b[0m\u001b[0;34m[\u001b[0m\u001b[0;36m0\u001b[0m\u001b[0;34m]\u001b[0m\u001b[0;34m,\u001b[0m\u001b[0maxis\u001b[0m\u001b[0;34m=\u001b[0m\u001b[0;36m1\u001b[0m\u001b[0;34m)\u001b[0m\u001b[0;34m\u001b[0m\u001b[0;34m\u001b[0m\u001b[0m\n\u001b[1;32m     34\u001b[0m     \u001b[0mtemp_df\u001b[0m\u001b[0;34m[\u001b[0m\u001b[0;34m'file_no'\u001b[0m\u001b[0;34m]\u001b[0m\u001b[0;34m=\u001b[0m\u001b[0;34m[\u001b[0m\u001b[0mfile_no\u001b[0m\u001b[0;34m]\u001b[0m\u001b[0;34m*\u001b[0m\u001b[0;34m(\u001b[0m\u001b[0mtemp_df\u001b[0m\u001b[0;34m.\u001b[0m\u001b[0mshape\u001b[0m\u001b[0;34m[\u001b[0m\u001b[0;36m0\u001b[0m\u001b[0;34m]\u001b[0m\u001b[0;34m)\u001b[0m\u001b[0;34m\u001b[0m\u001b[0;34m\u001b[0m\u001b[0m\n\u001b[0;32m---> 35\u001b[0;31m     \u001b[0mtemp_sc\u001b[0m\u001b[0;34m=\u001b[0m\u001b[0mprepare_scorecard\u001b[0m\u001b[0;34m(\u001b[0m\u001b[0mtemp_df\u001b[0m\u001b[0;34m)\u001b[0m\u001b[0;34m\u001b[0m\u001b[0;34m\u001b[0m\u001b[0m\n\u001b[0m\u001b[1;32m     36\u001b[0m     \u001b[0;31m# print(temp_sc)\u001b[0m\u001b[0;34m\u001b[0m\u001b[0;34m\u001b[0m\u001b[0;34m\u001b[0m\u001b[0m\n\u001b[1;32m     37\u001b[0m \u001b[0;31m#     append_file(temp_df,gender,type_game)\u001b[0m\u001b[0;34m\u001b[0m\u001b[0;34m\u001b[0m\u001b[0;34m\u001b[0m\u001b[0m\n",
      "\u001b[0;32m<ipython-input-8-e844c1b9b6d7>\u001b[0m in \u001b[0;36mprepare_scorecard\u001b[0;34m(match_data)\u001b[0m\n\u001b[1;32m      1\u001b[0m \u001b[0;32mdef\u001b[0m \u001b[0mprepare_scorecard\u001b[0m\u001b[0;34m(\u001b[0m\u001b[0mmatch_data\u001b[0m\u001b[0;34m)\u001b[0m\u001b[0;34m:\u001b[0m\u001b[0;34m\u001b[0m\u001b[0;34m\u001b[0m\u001b[0m\n\u001b[0;32m----> 2\u001b[0;31m     \u001b[0mmatch_data\u001b[0m\u001b[0;34m=\u001b[0m\u001b[0mget_extras_type\u001b[0m\u001b[0;34m(\u001b[0m\u001b[0mmatch_data\u001b[0m\u001b[0;34m)\u001b[0m\u001b[0;34m\u001b[0m\u001b[0;34m\u001b[0m\u001b[0m\n\u001b[0m\u001b[1;32m      3\u001b[0m \u001b[0;31m#     print(match_data[match_data['bowler']==   'Mashrafe Mortaza'])\u001b[0m\u001b[0;34m\u001b[0m\u001b[0;34m\u001b[0m\u001b[0;34m\u001b[0m\u001b[0m\n\u001b[1;32m      4\u001b[0m     \u001b[0mplayers\u001b[0m\u001b[0;34m=\u001b[0m\u001b[0mlist\u001b[0m\u001b[0;34m(\u001b[0m\u001b[0;34m(\u001b[0m\u001b[0mmatch_data\u001b[0m\u001b[0;34m[\u001b[0m\u001b[0;34m'striker'\u001b[0m\u001b[0;34m]\u001b[0m\u001b[0;34m.\u001b[0m\u001b[0mappend\u001b[0m\u001b[0;34m(\u001b[0m\u001b[0mmatch_data\u001b[0m\u001b[0;34m[\u001b[0m\u001b[0;34m'non-striker'\u001b[0m\u001b[0;34m]\u001b[0m\u001b[0;34m)\u001b[0m\u001b[0;34m.\u001b[0m\u001b[0mappend\u001b[0m\u001b[0;34m(\u001b[0m\u001b[0mmatch_data\u001b[0m\u001b[0;34m[\u001b[0m\u001b[0;34m'bowler'\u001b[0m\u001b[0;34m]\u001b[0m\u001b[0;34m)\u001b[0m\u001b[0;34m)\u001b[0m\u001b[0;34m.\u001b[0m\u001b[0munique\u001b[0m\u001b[0;34m(\u001b[0m\u001b[0;34m)\u001b[0m\u001b[0;34m)\u001b[0m\u001b[0;34m\u001b[0m\u001b[0;34m\u001b[0m\u001b[0m\n\u001b[1;32m      5\u001b[0m     \u001b[0;31m#     to make 22 players if any player has not played\u001b[0m\u001b[0;34m\u001b[0m\u001b[0;34m\u001b[0m\u001b[0;34m\u001b[0m\u001b[0m\n",
      "\u001b[0;32m<ipython-input-7-077ade978301>\u001b[0m in \u001b[0;36mget_extras_type\u001b[0;34m(match_data)\u001b[0m\n\u001b[1;32m      3\u001b[0m     \u001b[0;32mfor\u001b[0m \u001b[0mindex\u001b[0m\u001b[0;34m,\u001b[0m\u001b[0mrow\u001b[0m \u001b[0;32min\u001b[0m \u001b[0mmatch_data\u001b[0m\u001b[0;34m.\u001b[0m\u001b[0miterrows\u001b[0m\u001b[0;34m(\u001b[0m\u001b[0;34m)\u001b[0m\u001b[0;34m:\u001b[0m\u001b[0;34m\u001b[0m\u001b[0;34m\u001b[0m\u001b[0m\n\u001b[1;32m      4\u001b[0m         \u001b[0mov\u001b[0m\u001b[0;34m=\u001b[0m\u001b[0mstr\u001b[0m\u001b[0;34m(\u001b[0m\u001b[0mrow\u001b[0m\u001b[0;34m[\u001b[0m\u001b[0;34m'over'\u001b[0m\u001b[0;34m]\u001b[0m\u001b[0;34m)\u001b[0m\u001b[0;34m.\u001b[0m\u001b[0msplit\u001b[0m\u001b[0;34m(\u001b[0m\u001b[0;34m'.'\u001b[0m\u001b[0;34m)\u001b[0m\u001b[0;34m\u001b[0m\u001b[0;34m\u001b[0m\u001b[0m\n\u001b[0;32m----> 5\u001b[0;31m         \u001b[0mball_no\u001b[0m\u001b[0;34m=\u001b[0m\u001b[0mint\u001b[0m\u001b[0;34m(\u001b[0m\u001b[0mov\u001b[0m\u001b[0;34m[\u001b[0m\u001b[0;36m1\u001b[0m\u001b[0;34m]\u001b[0m\u001b[0;34m)\u001b[0m\u001b[0;34m\u001b[0m\u001b[0;34m\u001b[0m\u001b[0m\n\u001b[0m\u001b[1;32m      6\u001b[0m         \u001b[0mover_no\u001b[0m\u001b[0;34m=\u001b[0m\u001b[0mint\u001b[0m\u001b[0;34m(\u001b[0m\u001b[0mov\u001b[0m\u001b[0;34m[\u001b[0m\u001b[0;36m0\u001b[0m\u001b[0;34m]\u001b[0m\u001b[0;34m)\u001b[0m\u001b[0;34m\u001b[0m\u001b[0;34m\u001b[0m\u001b[0m\n\u001b[1;32m      7\u001b[0m         \u001b[0;32mif\u001b[0m \u001b[0mrow\u001b[0m\u001b[0;34m[\u001b[0m\u001b[0;34m'extras'\u001b[0m\u001b[0;34m]\u001b[0m\u001b[0;34m!=\u001b[0m\u001b[0;36m0\u001b[0m\u001b[0;34m:\u001b[0m\u001b[0;34m\u001b[0m\u001b[0;34m\u001b[0m\u001b[0m\n",
      "\u001b[0;31mIndexError\u001b[0m: list index out of range"
     ]
    }
   ],
   "source": [
    "i=0\n",
    "files=['1030217]\n",
    "for file in files[:]:\n",
    "    print(i,'--',file)\n",
    "    i+=1\n",
    "    count=0\n",
    "    df_index=[]\n",
    "    df_row=[]\n",
    "    add=r'./all_csv/'+file\n",
    "#     add=r'/gdrive/My Drive/all_csv/'+file\n",
    "    df_index=['file_no']\n",
    "    file_no=file.split('.')[0]\n",
    "    df_row=[file_no]\n",
    "    with open(add) as f:\n",
    "        new_f=f.readlines()\n",
    "        for line in new_f:\n",
    "            if 'version' in line:\n",
    "                count+=1\n",
    "            elif 'info' in line:\n",
    "                count+=1\n",
    "                line=line.strip().split(',')\n",
    "                df_index.append(line[1])\n",
    "                df_row.append(line[2])\n",
    "            else:\n",
    "                df_index=rename_date_umpire(df_index)\n",
    "                df_dic=dict(zip(df_index,df_row),index=[0])\n",
    "                temp_info_df=pd.DataFrame(df_dic)\n",
    "#                 df_info=df_info.append(temp_info_df,ignore_index=True)\n",
    "                # gender=df_info['gender'].iloc[0]\n",
    "                # gender=str.lower(gender.strip())\n",
    "                break\n",
    "    temp_df=pd.read_csv(add,skiprows=count,names=[0,'innings','over','batting-team','striker','non-striker','bowler','runs','extras','out','out-player'])\n",
    "    temp_df=temp_df.drop([0],axis=1)\n",
    "    temp_df['file_no']=[file_no]*(temp_df.shape[0])\n",
    "    temp_sc=prepare_scorecard(temp_df)\n",
    "    # print(temp_sc)\n",
    "#     append_file(temp_df,gender,type_game) \n",
    "    append_file(temp_sc,temp_info_df,find_game(temp_sc,temp_info_df))"
   ]
  },
  {
   "cell_type": "code",
   "execution_count": 0,
   "metadata": {
    "ExecuteTime": {
     "end_time": "2019-10-10T19:28:07.998571Z",
     "start_time": "2019-10-10T19:28:07.993133Z"
    },
    "colab": {},
    "colab_type": "code",
    "id": "b1uddBtdMBbm"
   },
   "outputs": [],
   "source": [
    "odi_info.columns"
   ]
  },
  {
   "cell_type": "code",
   "execution_count": 0,
   "metadata": {
    "ExecuteTime": {
     "end_time": "2019-10-10T19:28:08.187794Z",
     "start_time": "2019-10-10T19:28:08.183296Z"
    },
    "colab": {},
    "colab_type": "code",
    "id": "q-KgHO6KMBbq"
   },
   "outputs": [],
   "source": [
    "ttwenty_info.columns"
   ]
  },
  {
   "cell_type": "code",
   "execution_count": 0,
   "metadata": {
    "ExecuteTime": {
     "end_time": "2019-10-10T19:28:08.412369Z",
     "start_time": "2019-10-10T19:28:08.406412Z"
    },
    "colab": {},
    "colab_type": "code",
    "id": "8NaqiU4rMBbt"
   },
   "outputs": [],
   "source": [
    "odi_scorecard"
   ]
  },
  {
   "cell_type": "code",
   "execution_count": 0,
   "metadata": {
    "ExecuteTime": {
     "end_time": "2019-10-10T19:28:08.640939Z",
     "start_time": "2019-10-10T19:28:08.624618Z"
    },
    "colab": {},
    "colab_type": "code",
    "id": "CnLwcvYOMBbw"
   },
   "outputs": [],
   "source": [
    "ttwenty_info"
   ]
  },
  {
   "cell_type": "code",
   "execution_count": 0,
   "metadata": {
    "ExecuteTime": {
     "end_time": "2019-10-10T19:28:13.577354Z",
     "start_time": "2019-10-10T19:28:13.545315Z"
    },
    "colab": {},
    "colab_type": "code",
    "id": "OYymALJ2MBbz"
   },
   "outputs": [],
   "source": [
    "ttwenty_scorecard"
   ]
  },
  {
   "cell_type": "code",
   "execution_count": 0,
   "metadata": {
    "colab": {},
    "colab_type": "code",
    "id": "Ecumyt2xPEXz"
   },
   "outputs": [],
   "source": [
    "odi_info."
   ]
  },
  {
   "cell_type": "code",
   "execution_count": 0,
   "metadata": {
    "colab": {},
    "colab_type": "code",
    "id": "CQIOoDRgVp7a"
   },
   "outputs": [],
   "source": []
  }
 ],
 "metadata": {
  "colab": {
   "collapsed_sections": [],
   "include_colab_link": true,
   "name": "bi_cricket.ipynb",
   "provenance": []
  },
  "kernelspec": {
   "display_name": "Python 3",
   "language": "python",
   "name": "python3"
  },
  "language_info": {
   "codemirror_mode": {
    "name": "ipython",
    "version": 3
   },
   "file_extension": ".py",
   "mimetype": "text/x-python",
   "name": "python",
   "nbconvert_exporter": "python",
   "pygments_lexer": "ipython3",
   "version": "3.6.8"
  },
  "varInspector": {
   "cols": {
    "lenName": 16,
    "lenType": 16,
    "lenVar": 40
   },
   "kernels_config": {
    "python": {
     "delete_cmd_postfix": "",
     "delete_cmd_prefix": "del ",
     "library": "var_list.py",
     "varRefreshCmd": "print(var_dic_list())"
    },
    "r": {
     "delete_cmd_postfix": ") ",
     "delete_cmd_prefix": "rm(",
     "library": "var_list.r",
     "varRefreshCmd": "cat(var_dic_list()) "
    }
   },
   "position": {
    "height": "372px",
    "left": "563px",
    "right": "20px",
    "top": "157px",
    "width": "589px"
   },
   "types_to_exclude": [
    "module",
    "function",
    "builtin_function_or_method",
    "instance",
    "_Feature"
   ],
   "window_display": false
  }
 },
 "nbformat": 4,
 "nbformat_minor": 1
}
