{
 "cells": [
  {
   "cell_type": "code",
   "execution_count": 281,
   "metadata": {
    "ExecuteTime": {
     "end_time": "2019-11-17T10:26:15.330628Z",
     "start_time": "2019-11-17T10:26:15.303737Z"
    },
    "colab": {
     "base_uri": "https://localhost:8080/",
     "height": 964
    },
    "colab_type": "code",
    "id": "xE_9w-OxNpS8",
    "outputId": "b65bb752-0a4f-4cd7-c499-fb205c1c4962"
   },
   "outputs": [],
   "source": [
    "# from google.colab import drive\n",
    "# drive.mount('/gdrive')\n",
    "# %cd /gdrive"
   ]
  },
  {
   "cell_type": "code",
   "execution_count": 282,
   "metadata": {
    "ExecuteTime": {
     "end_time": "2019-11-17T10:26:15.600795Z",
     "start_time": "2019-11-17T10:26:15.595859Z"
    },
    "colab": {},
    "colab_type": "code",
    "id": "izwDcBDNMBbF"
   },
   "outputs": [],
   "source": [
    "import pandas as pd\n",
    "import os"
   ]
  },
  {
   "cell_type": "code",
   "execution_count": 283,
   "metadata": {
    "ExecuteTime": {
     "end_time": "2019-11-17T10:26:15.829774Z",
     "start_time": "2019-11-17T10:26:15.820184Z"
    },
    "colab": {
     "base_uri": "https://localhost:8080/",
     "height": 784
    },
    "colab_type": "code",
    "id": "M91xXzOpMBbM",
    "outputId": "f6c2e27c-1116-492a-ae0c-a62ff28075a2"
   },
   "outputs": [],
   "source": [
    "files = [file for dirpath, directory, file in os.walk('./all_csv/')][0]\n",
    "# files=[file for dirpath,directory,file in os.walk(r'/gdrive/My Drive/all_csv/')][0]"
   ]
  },
  {
   "cell_type": "code",
   "execution_count": 284,
   "metadata": {
    "ExecuteTime": {
     "end_time": "2019-11-17T10:26:16.093666Z",
     "start_time": "2019-11-17T10:26:16.081380Z"
    },
    "colab": {},
    "colab_type": "code",
    "id": "kd8d-XkgMBbQ"
   },
   "outputs": [],
   "source": [
    "match_data = pd.DataFrame(data=None)\n",
    "odi_scorecard = pd.DataFrame(data=None)\n",
    "ttwenty_scorecard = pd.DataFrame(data=None)\n",
    "odi_info = pd.DataFrame(data=None)\n",
    "ttwenty_info = pd.DataFrame(data=None)"
   ]
  },
  {
   "cell_type": "code",
   "execution_count": 285,
   "metadata": {
    "ExecuteTime": {
     "end_time": "2019-11-17T10:26:16.199399Z",
     "start_time": "2019-11-17T10:26:16.187136Z"
    },
    "colab": {},
    "colab_type": "code",
    "id": "rz89lpJKMBbT"
   },
   "outputs": [],
   "source": [
    "def rename_date_umpire(index_list):\n",
    "    n = 0\n",
    "    for i in range(index_list.__len__()):\n",
    "        if str.lower(index_list[i]).strip() == 'date':\n",
    "            index_list[i] += '_'+str(n)\n",
    "            n += 1\n",
    "    n = 0\n",
    "    for i in range(index_list.__len__()):\n",
    "        if str.lower(index_list[i]).strip() == 'umpire':\n",
    "            index_list[i] += '_'+str(n)\n",
    "            n += 1\n",
    "    n = 0\n",
    "    for i in range(index_list.__len__()):\n",
    "        if str.lower(index_list[i]).strip() == 'team':\n",
    "            index_list[i] += '_'+str(n)\n",
    "            n += 1\n",
    "    return index_list"
   ]
  },
  {
   "cell_type": "code",
   "execution_count": 286,
   "metadata": {
    "ExecuteTime": {
     "end_time": "2019-11-17T10:26:16.338675Z",
     "start_time": "2019-11-17T10:26:16.327353Z"
    },
    "colab": {},
    "colab_type": "code",
    "id": "B-adMfgDMBbW"
   },
   "outputs": [],
   "source": [
    "def find_game(df_game,df_info):\n",
    "    if 'series' in df_info.columns:\n",
    "        if 'odi' in str.lower(df_info.iloc[0]['series']):\n",
    "            return 'odi'\n",
    "        if 't20i' in str.lower(df_info.iloc[0]['series']) or 't20' in str.lower(df_info.iloc[0]['series']) or 'indian premier league' in str.lower(df_info.iloc[0]['series'])  or 'indian premier league' in str.lower(df_info.iloc[0]['competition']):\n",
    "            return 'twenty'\n",
    "    if max(df_game['balls-bowled'])<=24:\n",
    "        return 'twenty'\n",
    "    if 24<max(df_game['balls-bowled'])<=60:\n",
    "        return 'odi'\n",
    "    return"
   ]
  },
  {
   "cell_type": "code",
   "execution_count": 287,
   "metadata": {
    "ExecuteTime": {
     "end_time": "2019-11-17T10:26:16.448310Z",
     "start_time": "2019-11-17T10:26:16.432805Z"
    },
    "colab": {},
    "colab_type": "code",
    "id": "342j7KX4MBbZ"
   },
   "outputs": [],
   "source": [
    "def append_file(temp_df, temp_info_df, type_game):\n",
    "    global odi_scorecard\n",
    "    global ttwenty_scorecard\n",
    "    global odi_info\n",
    "    global ttwenty_info\n",
    "    if type_game == 'odi':\n",
    "        odi_scorecard = odi_scorecard.append(temp_df, ignore_index=True)\n",
    "        odi_info = odi_info.append(temp_info_df, ignore_index=True)\n",
    "    elif type_game == 'twenty':\n",
    "        ttwenty_scorecard = ttwenty_scorecard.append(\n",
    "            temp_df, ignore_index=True)\n",
    "        ttwenty_info = ttwenty_info.append(temp_info_df, ignore_index=True)"
   ]
  },
  {
   "cell_type": "code",
   "execution_count": 288,
   "metadata": {
    "ExecuteTime": {
     "end_time": "2019-11-17T10:26:16.647998Z",
     "start_time": "2019-11-17T10:26:16.639846Z"
    },
    "colab": {},
    "colab_type": "code",
    "id": "CHyMUqyeMBbc"
   },
   "outputs": [],
   "source": [
    "def get_extras_type(match_data):\n",
    "    list_extras = []\n",
    "    for index, row in match_data.iterrows():\n",
    "        ov = str(row['over'])\n",
    "        if '.' in ov:\n",
    "            ov = str(row['over']).split('.')\n",
    "            ball_no = int(ov[1])\n",
    "            over_no = int(ov[0])\n",
    "        else:\n",
    "            continue\n",
    "        if row['extras'] != 0:\n",
    "            if row['runs'] != 0:\n",
    "                match_data.loc[index, 'extras_type'] = 'w'\n",
    "            list_extras.append(index)\n",
    "        if ball_no > 6:\n",
    "            if len(list_extras) > 0:\n",
    "                match_data.loc[list_extras.pop(-1), 'extras_type'] = 'w'\n",
    "    for i in list_extras:\n",
    "        match_data.loc[i, 'extras_type'] = 'b'\n",
    "    return match_data"
   ]
  },
  {
   "cell_type": "code",
   "execution_count": 289,
   "metadata": {
    "ExecuteTime": {
     "end_time": "2019-11-17T10:26:16.897201Z",
     "start_time": "2019-11-17T10:26:16.850608Z"
    }
   },
   "outputs": [],
   "source": [
    "def prepare_scorecard(match_data,team_0,team_1):\n",
    "    match_data = get_extras_type(match_data)\n",
    "#     print(match_data[match_data['bowler']==\t'Mashrafe Mortaza'])\n",
    "    teams=['','']\n",
    "    players = list((match_data['striker'].append(\n",
    "        match_data['non-striker']).append(match_data['bowler'])).unique())\n",
    "    #     to make 22 players if any player has not played\n",
    "#     for i in range(len(players),22):\n",
    "#         players.append('p_'+str(i))\n",
    "#         fow\n",
    "#     player_stats=['match-id','innings','name','batting-position','over-batsman','runs-scored','balls-played','ones','twos','threes','fours','sixes','wicket-method','balls-bowled','maiden-overs','runs-given','wickets',extras,'fall-of-wicket-score','fall-of-wicket-overs','fall-of-wicket-no','fow','fow_runs','fow_overs','fow_batsman','fow_bowler']\n",
    "    player_stats = ['match-id', 'team-name', 'innings', 'name', 'batting-position', 'over-batsman', 'runs-scored', 'balls-played', 'dots', 'ones', 'twos', 'threes', 'fours', 'sixes',\n",
    "                    'wicket-method', 'balls-bowled', 'maiden-overs', 'runs-given', 'wickets', 'extras', 'fall-of-wicket-score', 'fall-of-wicket-overs', 'fall-of-wicket-no', 'fall-of-wicket-bowler']\n",
    "    player_data = {key: {key_type: 0 for key_type in player_stats}\n",
    "                   for key in players}\n",
    "    for p in players:\n",
    "        player_data[p]['match-id'] = match_data.loc[0, 'file_no']\n",
    "        player_data[p]['name'] = p\n",
    "    team_score = 0\n",
    "    balls = 0\n",
    "    pos = 1\n",
    "    inning = False\n",
    "    w = 1\n",
    "    p_no = 1\n",
    "    w_no = 1\n",
    "    extras_over = 0\n",
    "    for index, row in match_data.iterrows():\n",
    "        ov = str(row['over'])\n",
    "        if '.' in ov:\n",
    "            ov = ov.split('.')\n",
    "            ball_no = int(ov[1])\n",
    "            over_no = int(ov[0])\n",
    "        else:\n",
    "            continue\n",
    "        if over_no > 50:\n",
    "            player_data = [value for key, value in player_data.items()]\n",
    "            scorecard = pd.DataFrame(data=player_data)\n",
    "            scorecard = scorecard[player_stats]\n",
    "            return scorecard\n",
    "        if ball_no == 1 and over_no == 0:\n",
    "            pos = 1\n",
    "            w = 1\n",
    "            team_score = 0\n",
    "            w_no = 1\n",
    "            runs_over = 0\n",
    "            if row['innings']==1 and teams[0]=='':\n",
    "                teams[0]=row['batting-team']\n",
    "                if teams[0]==team_0:\n",
    "                    teams[1]=team_1\n",
    "                elif teams[0]==team_1:\n",
    "                    teams[1]=team_0\n",
    "            # if row['innings']!=1:\n",
    "            #     p_no=12\n",
    "        if ball_no == 1:\n",
    "            extras_over = 0\n",
    "        if row['runs'] == 1:\n",
    "            player_data[row['striker']]['ones'] += 1\n",
    "        elif row['runs'] == 2:\n",
    "            player_data[row['striker']]['twos'] += 1\n",
    "        elif row['runs'] == 3:\n",
    "            player_data[row['striker']]['threes'] += 1\n",
    "        elif row['runs'] == 4:\n",
    "            player_data[row['striker']]['fours'] += 1\n",
    "        elif row['runs'] == 6:\n",
    "            player_data[row['striker']]['sixes'] += 1\n",
    "        elif row['extras'] == 0:\n",
    "            player_data[row['striker']]['dots'] += 1\n",
    "        if player_data[row['striker']]['batting-position'] == 0:\n",
    "            player_data[row['striker']]['batting-position'] = pos\n",
    "#             print(type(row['over']),type(extras_over))\n",
    "#             print(row['over'])\n",
    "            player_data[row['striker']\n",
    "                        ]['over-batsman'] = float(row['over'])-extras_over\n",
    "            pos += 1\n",
    "        if player_data[row['non-striker']]['batting-position'] == 0:\n",
    "            player_data[row['non-striker']]['batting-position'] = pos\n",
    "            player_data[row['non-striker']\n",
    "                        ]['over-batsman'] = float(row['over'])-extras_over\n",
    "            pos += 1\n",
    "    # wicket\n",
    "#         print(row['out-player'])\n",
    "        if not pd.isna(row['out-player']):\n",
    "            player_data[row['out-player']]['wicket-method'] = row['out']\n",
    "#             fow\n",
    "#             player_data[players[p_no-1]]['fow']=w\n",
    "#             player_data[players[p_no-1]]['fow_runs']=team_score\n",
    "#             player_data[players[p_no-1]]['fow_overs']=row['over']\n",
    "#             player_data[players[p_no-1]]['fow_batsman']=row['out-player']\n",
    "#             player_data[players[p_no-1]]['fow_bowler']=row['bowler']\n",
    "            p_no += 1\n",
    "            w += 1\n",
    "            if row['out'] != 'run out':\n",
    "                player_data[row['bowler']]['wickets'] += 1\n",
    "            player_data[row['out-player']]['fall-of-wicket-score'] = team_score\n",
    "            player_data[row['out-player']\n",
    "                        ]['fall-of-wicket-overs'] = float(row['over'])-extras_over\n",
    "            player_data[row['out-player']]['fall-of-wicket-no'] = w_no\n",
    "            player_data[row['out-player']\n",
    "                        ]['fall-of-wicket-bowler'] = row['bowler']\n",
    "            w_no += 1\n",
    "        team_score += row['runs']+row['extras']\n",
    "        runs_over += row['runs']\n",
    "        if row['extras'] != 0 and row['extras_type'] == 'w':\n",
    "            runs_over += 1\n",
    "            player_data[row['bowler']]['extras'] += 1\n",
    "            player_data[row['striker']]['runs-scored'] += row['extras']-1\n",
    "            player_data[row['bowler']]['runs-given'] += row['extras']-1\n",
    "            extras_over += 0.1\n",
    "        elif row['extras'] != 0:\n",
    "            #             print(row)\n",
    "            player_data[row['bowler']]['balls-bowled'] += 1\n",
    "            player_data[row['striker']]['balls-played'] += 1\n",
    "        else:\n",
    "            player_data[row['striker']]['balls-played'] += 1\n",
    "            player_data[row['bowler']]['balls-bowled'] += 1\n",
    "            player_data[row['bowler']]['runs-given'] += row['runs']\n",
    "        player_data[row['striker']]['runs-scored'] += row['runs']\n",
    "        if ball_no >= 6:\n",
    "            if ball_no == 6 and runs_over == 0:\n",
    "                player_data[row['bowler']]['maiden-overs'] += 1\n",
    "            runs_over = 0\n",
    "        player_data[row['striker']]['innings'] = row['innings']\n",
    "        player_data[row['striker']]['team-name']=row['batting-team']\n",
    "        player_data[row['non-striker']]['team-name']=row['batting-team']\n",
    "        if row['innings'] == 1:\n",
    "            player_data[row['bowler']]['innings'] = 2\n",
    "            player_data[row['bowler']]['team-name']=teams[1]\n",
    "#             print(teams,row['bowler'])\n",
    "        elif row['innings']==2:\n",
    "            player_data[row['bowler']]['innings'] = 1\n",
    "            player_data[row['bowler']]['team-name']=teams[0]\n",
    "#             print(teams,row['bowler'])\n",
    "#     print(player_data)\n",
    "    \n",
    "    player_data = [value for key, value in player_data.items()]\n",
    "    scorecard = pd.DataFrame(data=player_data)\n",
    "    scorecard = scorecard[player_stats]\n",
    "    return scorecard"
   ]
  },
  {
   "cell_type": "code",
   "execution_count": 290,
   "metadata": {
    "ExecuteTime": {
     "end_time": "2019-11-17T10:26:18.933087Z",
     "start_time": "2019-11-17T10:26:16.942966Z"
    },
    "colab": {
     "base_uri": "https://localhost:8080/",
     "height": 802
    },
    "colab_type": "code",
    "collapsed": true,
    "id": "vcQJdDFhMBbi",
    "outputId": "e99439dc-98d8-4a10-8404-30506885ef5e"
   },
   "outputs": [
    {
     "name": "stdout",
     "output_type": "stream",
     "text": [
      "0 -- 1019975.csv\n",
      "1 -- 682919.csv\n",
      "2 -- 952191.csv\n",
      "3 -- 1043961.csv\n",
      "4 -- 565820.csv\n"
     ]
    }
   ],
   "source": [
    "i = 0\n",
    "for file in files[:5]:\n",
    "    print(i, '--', file)\n",
    "    i += 1\n",
    "    count = 0\n",
    "    df_index = []\n",
    "    df_row = []\n",
    "    add = r'./all_csv/'+file\n",
    "#     add=r'/gdrive/My Drive/all_csv/'+file\n",
    "    df_index = ['file_no']\n",
    "    file_no = file.split('.')[0]\n",
    "    df_row = [file_no]\n",
    "    with open(add) as f:\n",
    "        new_f = f.readlines()\n",
    "        for line in new_f:\n",
    "            if 'version' in line:\n",
    "                count += 1\n",
    "            elif 'info' in line:\n",
    "                count += 1\n",
    "                line = line.strip().split(',')\n",
    "                df_index.append(line[1])\n",
    "                df_row.append(line[2])\n",
    "            else:\n",
    "                df_index = rename_date_umpire(df_index)\n",
    "                df_dic = dict(zip(df_index, df_row), index=[0])\n",
    "                temp_info_df = pd.DataFrame(df_dic)\n",
    "#                 df_info=df_info.append(temp_info_df,ignore_index=True)\n",
    "                # gender=df_info['gender'].iloc[0]\n",
    "                # gender=str.lower(gender.strip())\n",
    "                break\n",
    "    temp_df = pd.read_csv(add, skiprows=count, names=[\n",
    "                          0, 'innings', 'over', 'batting-team', 'striker', 'non-striker', 'bowler', 'runs', 'extras', 'out', 'out-player'])\n",
    "    temp_df = temp_df.drop([0], axis=1)\n",
    "    temp_df['file_no'] = [file_no]*(temp_df.shape[0])\n",
    "    temp_sc = prepare_scorecard(temp_df,temp_info_df['team_0'].values[0],temp_info_df['team_1'].values[0])\n",
    "    # print(temp_sc)\n",
    "#     append_file(temp_df,gender,type_game)\n",
    "    append_file(temp_sc, temp_info_df, find_game(temp_sc, temp_info_df))"
   ]
  },
  {
   "cell_type": "code",
   "execution_count": 291,
   "metadata": {
    "ExecuteTime": {
     "end_time": "2019-11-17T10:26:19.451467Z",
     "start_time": "2019-11-17T10:26:19.447424Z"
    },
    "colab": {},
    "colab_type": "code",
    "id": "b1uddBtdMBbm"
   },
   "outputs": [
    {
     "data": {
      "text/plain": [
       "Index(['city', 'competition', 'date_0', 'file_no', 'gender', 'index',\n",
       "       'match_number', 'match_referee', 'player_of_match', 'reserve_umpire',\n",
       "       'season', 'series', 'team_0', 'team_1', 'toss_decision', 'toss_winner',\n",
       "       'tv_umpire', 'umpire_0', 'umpire_1', 'venue', 'winner', 'winner_runs'],\n",
       "      dtype='object')"
      ]
     },
     "execution_count": 291,
     "metadata": {},
     "output_type": "execute_result"
    }
   ],
   "source": [
    "odi_info.columns"
   ]
  },
  {
   "cell_type": "code",
   "execution_count": 292,
   "metadata": {
    "ExecuteTime": {
     "end_time": "2019-11-17T10:26:19.590057Z",
     "start_time": "2019-11-17T10:26:19.584710Z"
    },
    "colab": {},
    "colab_type": "code",
    "id": "q-KgHO6KMBbq"
   },
   "outputs": [
    {
     "data": {
      "text/plain": [
       "Index(['city', 'competition', 'date_0', 'file_no', 'gender', 'index',\n",
       "       'match_number', 'match_referee', 'neutralvenue', 'player_of_match',\n",
       "       'reserve_umpire', 'season', 'series', 'team_0', 'team_1',\n",
       "       'toss_decision', 'toss_winner', 'tv_umpire', 'umpire_0', 'umpire_1',\n",
       "       'venue', 'winner', 'winner_runs', 'winner_wickets'],\n",
       "      dtype='object')"
      ]
     },
     "execution_count": 292,
     "metadata": {},
     "output_type": "execute_result"
    }
   ],
   "source": [
    "ttwenty_info.columns"
   ]
  },
  {
   "cell_type": "code",
   "execution_count": 280,
   "metadata": {
    "ExecuteTime": {
     "end_time": "2019-11-17T10:17:38.907208Z",
     "start_time": "2019-11-17T10:17:38.887643Z"
    },
    "colab": {},
    "colab_type": "code",
    "id": "CQIOoDRgVp7a"
   },
   "outputs": [],
   "source": [
    "odi_info.to_csv('./odi_info.csv', index=False)\n",
    "ttwenty_info.to_csv('./ttwenty_info.csv', index=False)\n",
    "odi_scorecard.to_csv('./odi_scorecard.csv', index=False)\n",
    "ttwenty_scorecard.to_csv('./ttwenty_scorecard.csv', index=False)"
   ]
  }
 ],
 "metadata": {
  "colab": {
   "collapsed_sections": [],
   "name": "bi_cricket.ipynb",
   "provenance": []
  },
  "kernelspec": {
   "display_name": "Python 3",
   "language": "python",
   "name": "python3"
  },
  "language_info": {
   "codemirror_mode": {
    "name": "ipython",
    "version": 3
   },
   "file_extension": ".py",
   "mimetype": "text/x-python",
   "name": "python",
   "nbconvert_exporter": "python",
   "pygments_lexer": "ipython3",
   "version": "3.6.8"
  },
  "varInspector": {
   "cols": {
    "lenName": 16,
    "lenType": 16,
    "lenVar": 40
   },
   "kernels_config": {
    "python": {
     "delete_cmd_postfix": "",
     "delete_cmd_prefix": "del ",
     "library": "var_list.py",
     "varRefreshCmd": "print(var_dic_list())"
    },
    "r": {
     "delete_cmd_postfix": ") ",
     "delete_cmd_prefix": "rm(",
     "library": "var_list.r",
     "varRefreshCmd": "cat(var_dic_list()) "
    }
   },
   "position": {
    "height": "372px",
    "left": "563px",
    "right": "20px",
    "top": "157px",
    "width": "589px"
   },
   "types_to_exclude": [
    "module",
    "function",
    "builtin_function_or_method",
    "instance",
    "_Feature"
   ],
   "window_display": false
  }
 },
 "nbformat": 4,
 "nbformat_minor": 1
}
