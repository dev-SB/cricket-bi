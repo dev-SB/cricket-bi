{
 "cells": [
  {
   "cell_type": "code",
   "execution_count": 72,
   "metadata": {
    "ExecuteTime": {
     "end_time": "2019-11-07T19:16:04.746266Z",
     "start_time": "2019-11-07T19:16:04.725721Z"
    },
    "colab": {
     "base_uri": "https://localhost:8080/",
     "height": 964
    },
    "colab_type": "code",
    "id": "xE_9w-OxNpS8",
    "outputId": "b65bb752-0a4f-4cd7-c499-fb205c1c4962"
   },
   "outputs": [],
   "source": [
    "# from google.colab import drive\n",
    "# drive.mount('/gdrive')\n",
    "# %cd /gdrive"
   ]
  },
  {
   "cell_type": "code",
   "execution_count": 73,
   "metadata": {
    "ExecuteTime": {
     "end_time": "2019-11-07T19:16:05.037250Z",
     "start_time": "2019-11-07T19:16:05.033914Z"
    },
    "colab": {},
    "colab_type": "code",
    "id": "izwDcBDNMBbF"
   },
   "outputs": [],
   "source": [
    "import pandas as pd\n",
    "import os"
   ]
  },
  {
   "cell_type": "code",
   "execution_count": 74,
   "metadata": {
    "ExecuteTime": {
     "end_time": "2019-11-07T19:16:05.294486Z",
     "start_time": "2019-11-07T19:16:05.286603Z"
    },
    "colab": {
     "base_uri": "https://localhost:8080/",
     "height": 784
    },
    "colab_type": "code",
    "id": "M91xXzOpMBbM",
    "outputId": "f6c2e27c-1116-492a-ae0c-a62ff28075a2"
   },
   "outputs": [],
   "source": [
    "files=[file for dirpath,directory,file in os.walk('./all_csv/')][0]\n",
    "# files=[file for dirpath,directory,file in os.walk(r'/gdrive/My Drive/all_csv/')][0]"
   ]
  },
  {
   "cell_type": "code",
   "execution_count": 75,
   "metadata": {
    "ExecuteTime": {
     "end_time": "2019-11-07T19:16:05.504237Z",
     "start_time": "2019-11-07T19:16:05.496887Z"
    },
    "colab": {},
    "colab_type": "code",
    "id": "kd8d-XkgMBbQ"
   },
   "outputs": [],
   "source": [
    "match_data=pd.DataFrame(data=None)\n",
    "odi_scorecard=pd.DataFrame(data=None)\n",
    "ttwenty_scorecard=pd.DataFrame(data=None)\n",
    "odi_info=pd.DataFrame(data=None)\n",
    "ttwenty_info=pd.DataFrame(data=None)"
   ]
  },
  {
   "cell_type": "code",
   "execution_count": 76,
   "metadata": {
    "ExecuteTime": {
     "end_time": "2019-11-07T19:16:05.716430Z",
     "start_time": "2019-11-07T19:16:05.706433Z"
    },
    "colab": {},
    "colab_type": "code",
    "id": "rz89lpJKMBbT"
   },
   "outputs": [],
   "source": [
    "def rename_date_umpire(index_list):\n",
    "    n=0\n",
    "    for i in range(index_list.__len__()):\n",
    "        if str.lower(index_list[i]).strip()=='date':\n",
    "            index_list[i]+='_'+str(n)\n",
    "            n+=1\n",
    "    n=0\n",
    "    for i in range(index_list.__len__()):\n",
    "        if str.lower(index_list[i]).strip()=='umpire':\n",
    "            index_list[i]+='_'+str(n)\n",
    "            n+=1\n",
    "    n=0\n",
    "    for i in range(index_list.__len__()):\n",
    "        if str.lower(index_list[i]).strip()=='team':\n",
    "            index_list[i]+='_'+str(n)\n",
    "            n+=1\n",
    "    return index_list"
   ]
  },
  {
   "cell_type": "code",
   "execution_count": 77,
   "metadata": {
    "ExecuteTime": {
     "end_time": "2019-11-07T19:16:05.908303Z",
     "start_time": "2019-11-07T19:16:05.884233Z"
    },
    "colab": {},
    "colab_type": "code",
    "id": "B-adMfgDMBbW"
   },
   "outputs": [],
   "source": [
    "def find_game(df_game,df_info):\n",
    "    if 'series' in df_info.columns:\n",
    "        if 'odi' in str.lower(df_info.iloc[0]['series']):\n",
    "            return 'odi'\n",
    "        if 't20i' in str.lower(df_info.iloc[0]['series']) or 't20' in str.lower(df_info.iloc[0]['series']) or 'indian premier league' in str.lower(df_info.iloc[0]['series']) :\n",
    "            return 'twenty'\n",
    "    if max(df_game['balls-bowled'])<=24:\n",
    "        return 'twenty'\n",
    "    if 24<max(df_game['balls-bowled'])<=60:\n",
    "        return 'odi'\n",
    "    return"
   ]
  },
  {
   "cell_type": "code",
   "execution_count": 78,
   "metadata": {
    "ExecuteTime": {
     "end_time": "2019-11-07T19:16:06.071953Z",
     "start_time": "2019-11-07T19:16:06.064280Z"
    },
    "colab": {},
    "colab_type": "code",
    "id": "342j7KX4MBbZ"
   },
   "outputs": [],
   "source": [
    "def append_file(temp_df,temp_info_df,type_game):\n",
    "    global odi_scorecard\n",
    "    global ttwenty_scorecard\n",
    "    global odi_info\n",
    "    global ttwenty_info\n",
    "    if type_game=='odi':\n",
    "        odi_scorecard=odi_scorecard.append(temp_df,ignore_index=True)\n",
    "        odi_info=odi_info.append(temp_info_df,ignore_index=True)\n",
    "    elif type_game=='twenty':\n",
    "        ttwenty_scorecard=ttwenty_scorecard.append(temp_df,ignore_index=True)\n",
    "        ttwenty_info=ttwenty_info.append(temp_info_df,ignore_index=True)"
   ]
  },
  {
   "cell_type": "code",
   "execution_count": 79,
   "metadata": {
    "ExecuteTime": {
     "end_time": "2019-11-07T19:16:06.259573Z",
     "start_time": "2019-11-07T19:16:06.247880Z"
    },
    "colab": {},
    "colab_type": "code",
    "id": "CHyMUqyeMBbc"
   },
   "outputs": [],
   "source": [
    "def get_extras_type(match_data):\n",
    "    list_extras=[]\n",
    "    for index,row in match_data.iterrows():\n",
    "        ov=str(row['over'])\n",
    "        if '.' in ov:\n",
    "            ov=str(row['over']).split('.')\n",
    "            ball_no=int(ov[1])\n",
    "            over_no=int(ov[0])\n",
    "        else:\n",
    "            continue\n",
    "        if row['extras']!=0:\n",
    "            if row['runs']!=0:\n",
    "                match_data.loc[index,'extras_type']='w'\n",
    "            list_extras.append(index)\n",
    "        if ball_no>6:\n",
    "            if len(list_extras)>0:\n",
    "                match_data.loc[list_extras.pop(-1),'extras_type']='w'\n",
    "    for i in list_extras:\n",
    "        match_data.loc[i,'extras_type']='b'\n",
    "    return match_data"
   ]
  },
  {
   "cell_type": "code",
   "execution_count": 80,
   "metadata": {
    "ExecuteTime": {
     "end_time": "2019-11-07T19:16:06.603551Z",
     "start_time": "2019-11-07T19:16:06.581162Z"
    }
   },
   "outputs": [],
   "source": [
    "def prepare_scorecard(match_data):\n",
    "    match_data=get_extras_type(match_data)\n",
    "#     print(match_data[match_data['bowler']==\t'Mashrafe Mortaza'])\n",
    "    players=list((match_data['striker'].append(match_data['non-striker']).append(match_data['bowler'])).unique())\n",
    "    #     to make 22 players if any player has not played\n",
    "#     for i in range(len(players),22):\n",
    "#         players.append('p_'+str(i))\n",
    "#         fow\n",
    "#     player_stats=['match-id','innings','name','batting-position','over-batsman','runs-scored','balls-played','ones','twos','threes','fours','sixes','wicket-method','balls-bowled','maiden-overs','runs-given','wickets',extras,'fall-of-wicket-score','fall-of-wicket-overs','fall-of-wicket-no','fow','fow_runs','fow_overs','fow_batsman','fow_bowler']\n",
    "    player_stats=['match-id','innings','name','batting-position','over-batsman','runs-scored','balls-played','dots','ones','twos','threes','fours','sixes','wicket-method','balls-bowled','maiden-overs','runs-given','wickets','extras','fall-of-wicket-score','fall-of-wicket-overs','fall-of-wicket-no','fall-of-wicket-bowler']\n",
    "    player_data={key:{key_type:0 for key_type in player_stats} for key in players}\n",
    "    for p in players:\n",
    "        player_data[p]['match-id']=match_data.loc[0,'file_no']\n",
    "        player_data[p]['name']=p\n",
    "    team_score=0\n",
    "    balls=0\n",
    "    pos=1\n",
    "    inning=False\n",
    "    w=1\n",
    "    p_no=1\n",
    "    w_no=1\n",
    "    extras_over=0\n",
    "    for index, row in match_data.iterrows():\n",
    "        ov=str(row['over'])\n",
    "        if '.' in ov:\n",
    "            ov=ov.split('.')\n",
    "            ball_no=int(ov[1])\n",
    "            over_no=int(ov[0])\n",
    "        else:\n",
    "            continue\n",
    "        if over_no>50:\n",
    "            player_data=[value for key, value in player_data.items()]\n",
    "            scorecard=pd.DataFrame(data=player_data)\n",
    "            scorecard=scorecard[player_stats]\n",
    "            return scorecard\n",
    "        if ball_no==1 and over_no==0:\n",
    "            pos=1\n",
    "            w=1\n",
    "            team_score=0\n",
    "            w_no=1\n",
    "            runs_over=0\n",
    "            # if row['innings']!=1:\n",
    "            #     p_no=12\n",
    "        if ball_no==1:\n",
    "            extras_over=0\n",
    "        if row['runs']==1:\n",
    "            player_data[row['striker']]['ones']+=1\n",
    "        elif row['runs']==2:\n",
    "            player_data[row['striker']]['twos']+=1\n",
    "        elif row['runs']==3:\n",
    "            player_data[row['striker']]['threes']+=1\n",
    "        elif row['runs']==4:\n",
    "            player_data[row['striker']]['fours']+=1\n",
    "        elif row['runs']==6:\n",
    "            player_data[row['striker']]['sixes']+=1\n",
    "        elif row['extras']==0:\n",
    "            player_data[row['striker']]['dots']+=1\n",
    "\n",
    "        if player_data[row['striker']]['batting-position']==0:\n",
    "            player_data[row['striker']]['batting-position']=pos\n",
    "            player_data[row['striker']]['over-batsman']=row['over']-extras_over\n",
    "            pos+=1\n",
    "        if player_data[row['non-striker']]['batting-position']==0:\n",
    "            player_data[row['non-striker']]['batting-position']=pos\n",
    "            player_data[row['non-striker']]['over-batsman']=row['over']-extras_over\n",
    "            pos+=1\n",
    "    # wicket\n",
    "#         print(row['out-player'])\n",
    "        if not pd.isna(row['out-player']):\n",
    "            player_data[row['out-player']]['wicket-method']=row['out']\n",
    "#             fow\n",
    "#             player_data[players[p_no-1]]['fow']=w\n",
    "#             player_data[players[p_no-1]]['fow_runs']=team_score\n",
    "#             player_data[players[p_no-1]]['fow_overs']=row['over']\n",
    "#             player_data[players[p_no-1]]['fow_batsman']=row['out-player']\n",
    "#             player_data[players[p_no-1]]['fow_bowler']=row['bowler']\n",
    "            p_no+=1\n",
    "            w+=1\n",
    "            if row['out']!='run out':\n",
    "                player_data[row['bowler']]['wickets']+=1\n",
    "            player_data[row['out-player']]['fall-of-wicket-score']=team_score\n",
    "            player_data[row['out-player']]['fall-of-wicket-overs']=row['over']-extras_over\n",
    "            print(row['over'],extras_over)\n",
    "            player_data[row['out-player']]['fall-of-wicket-no']=w_no\n",
    "            player_data[row['out-player']]['fall-of-wicket-bowler']=row['bowler']\n",
    "            w_no+=1\n",
    "        team_score+=row['runs']+row['extras']\n",
    "        runs_over+=row['runs']\n",
    "        if row['extras']!=0 and row['extras_type']=='w':\n",
    "            runs_over+=1\n",
    "            player_data[row['bowler']]['extras']+=1\n",
    "            player_data[row['striker']]['runs-scored']+=row['extras']-1\n",
    "            player_data[row['bowler']]['runs-given']+=row['extras']-1\n",
    "            extras_over+=0.1\n",
    "        elif row['extras']!=0:\n",
    "#             print(row)\n",
    "            player_data[row['bowler']]['balls-bowled']+=1\n",
    "            player_data[row['striker']]['balls-played']+=1\n",
    "        else:\n",
    "            player_data[row['striker']]['balls-played']+=1\n",
    "            player_data[row['bowler']]['balls-bowled']+=1\n",
    "            player_data[row['bowler']]['runs-given']+=row['runs']\n",
    "        player_data[row['striker']]['runs-scored']+=row['runs']\n",
    "        if ball_no>=6:\n",
    "            if ball_no==6 and runs_over==0:\n",
    "                player_data[row['bowler']]['maiden-overs']+=1\n",
    "            runs_over=0\n",
    "        player_data[row['striker']]['innings']=row['innings']\n",
    "        if row['innings']==1:\n",
    "            player_data[row['bowler']]['innings']=2\n",
    "        else:\n",
    "            player_data[row['bowler']]['innings']=1\n",
    "#     print(player_data)\n",
    "    player_data=[value for key, value in player_data.items()]\n",
    "    scorecard=pd.DataFrame(data=player_data)\n",
    "    scorecard=scorecard[player_stats]\n",
    "    return scorecard"
   ]
  },
  {
   "cell_type": "code",
   "execution_count": 81,
   "metadata": {
    "ExecuteTime": {
     "end_time": "2019-11-07T19:16:07.392016Z",
     "start_time": "2019-11-07T19:16:07.028684Z"
    },
    "colab": {
     "base_uri": "https://localhost:8080/",
     "height": 802
    },
    "colab_type": "code",
    "id": "vcQJdDFhMBbi",
    "outputId": "e99439dc-98d8-4a10-8404-30506885ef5e"
   },
   "outputs": [
    {
     "name": "stdout",
     "output_type": "stream",
     "text": [
      "0 -- 1019975.csv\n",
      "0.4 0\n",
      "10.5 0\n",
      "13.1 0\n",
      "22.5 0\n",
      "25.3 0\n",
      "37.3 0\n",
      "42.5 0\n",
      "45.2 0\n",
      "46.6 0.1\n",
      "49.6 0\n",
      "7.2 0\n",
      "22.7 0.1\n",
      "25.3 0\n",
      "28.5 0.1\n",
      "30.4 0\n",
      "31.3 0\n",
      "32.4 0\n",
      "36.4 0\n",
      "39.3 0\n",
      "42.5 0\n"
     ]
    }
   ],
   "source": [
    "i=0\n",
    "for file in files[:1]:\n",
    "    print(i,'--',file)\n",
    "    i+=1\n",
    "    count=0\n",
    "    df_index=[]\n",
    "    df_row=[]\n",
    "    add=r'./all_csv/'+file\n",
    "#     add=r'/gdrive/My Drive/all_csv/'+file\n",
    "    df_index=['file_no']\n",
    "    file_no=file.split('.')[0]\n",
    "    df_row=[file_no]\n",
    "    with open(add) as f:\n",
    "        new_f=f.readlines()\n",
    "        for line in new_f:\n",
    "            if 'version' in line:\n",
    "                count+=1\n",
    "            elif 'info' in line:\n",
    "                count+=1\n",
    "                line=line.strip().split(',')\n",
    "                df_index.append(line[1])\n",
    "                df_row.append(line[2])\n",
    "            else:\n",
    "                df_index=rename_date_umpire(df_index)\n",
    "                df_dic=dict(zip(df_index,df_row),index=[0])\n",
    "                temp_info_df=pd.DataFrame(df_dic)\n",
    "#                 df_info=df_info.append(temp_info_df,ignore_index=True)\n",
    "                # gender=df_info['gender'].iloc[0]\n",
    "                # gender=str.lower(gender.strip())\n",
    "                break\n",
    "    temp_df=pd.read_csv(add,skiprows=count,names=[0,'innings','over','batting-team','striker','non-striker','bowler','runs','extras','out','out-player'])\n",
    "    temp_df=temp_df.drop([0],axis=1)\n",
    "    temp_df['file_no']=[file_no]*(temp_df.shape[0])\n",
    "    temp_sc=prepare_scorecard(temp_df)\n",
    "    # print(temp_sc)\n",
    "#     append_file(temp_df,gender,type_game) \n",
    "    append_file(temp_sc,temp_info_df,find_game(temp_sc,temp_info_df))"
   ]
  },
  {
   "cell_type": "code",
   "execution_count": 82,
   "metadata": {
    "ExecuteTime": {
     "end_time": "2019-11-07T19:16:07.599861Z",
     "start_time": "2019-11-07T19:16:07.594718Z"
    },
    "colab": {},
    "colab_type": "code",
    "id": "b1uddBtdMBbm"
   },
   "outputs": [
    {
     "data": {
      "text/plain": [
       "Index(['file_no', 'team_0', 'team_1', 'gender', 'season', 'date_0', 'series',\n",
       "       'match_number', 'venue', 'city', 'toss_winner', 'toss_decision',\n",
       "       'player_of_match', 'umpire_0', 'umpire_1', 'reserve_umpire',\n",
       "       'tv_umpire', 'match_referee', 'winner', 'winner_runs', 'index'],\n",
       "      dtype='object')"
      ]
     },
     "execution_count": 82,
     "metadata": {},
     "output_type": "execute_result"
    }
   ],
   "source": [
    "odi_info.columns"
   ]
  },
  {
   "cell_type": "code",
   "execution_count": 83,
   "metadata": {
    "ExecuteTime": {
     "end_time": "2019-11-07T19:16:08.064803Z",
     "start_time": "2019-11-07T19:16:08.046383Z"
    },
    "colab": {},
    "colab_type": "code",
    "id": "q-KgHO6KMBbq"
   },
   "outputs": [
    {
     "data": {
      "text/plain": [
       "Index([], dtype='object')"
      ]
     },
     "execution_count": 83,
     "metadata": {},
     "output_type": "execute_result"
    }
   ],
   "source": [
    "ttwenty_info.columns"
   ]
  },
  {
   "cell_type": "code",
   "execution_count": 84,
   "metadata": {
    "ExecuteTime": {
     "end_time": "2019-11-07T19:16:08.530201Z",
     "start_time": "2019-11-07T19:16:08.511853Z"
    },
    "colab": {},
    "colab_type": "code",
    "id": "CnLwcvYOMBbw"
   },
   "outputs": [
    {
     "data": {
      "text/html": [
       "<div>\n",
       "<style scoped>\n",
       "    .dataframe tbody tr th:only-of-type {\n",
       "        vertical-align: middle;\n",
       "    }\n",
       "\n",
       "    .dataframe tbody tr th {\n",
       "        vertical-align: top;\n",
       "    }\n",
       "\n",
       "    .dataframe thead th {\n",
       "        text-align: right;\n",
       "    }\n",
       "</style>\n",
       "<table border=\"1\" class=\"dataframe\">\n",
       "  <thead>\n",
       "    <tr style=\"text-align: right;\">\n",
       "      <th></th>\n",
       "    </tr>\n",
       "  </thead>\n",
       "  <tbody>\n",
       "  </tbody>\n",
       "</table>\n",
       "</div>"
      ],
      "text/plain": [
       "Empty DataFrame\n",
       "Columns: []\n",
       "Index: []"
      ]
     },
     "execution_count": 84,
     "metadata": {},
     "output_type": "execute_result"
    }
   ],
   "source": [
    "ttwenty_info"
   ]
  },
  {
   "cell_type": "code",
   "execution_count": 85,
   "metadata": {
    "ExecuteTime": {
     "end_time": "2019-11-07T19:16:08.798507Z",
     "start_time": "2019-11-07T19:16:08.790450Z"
    },
    "colab": {},
    "colab_type": "code",
    "id": "OYymALJ2MBbz"
   },
   "outputs": [
    {
     "data": {
      "text/html": [
       "<div>\n",
       "<style scoped>\n",
       "    .dataframe tbody tr th:only-of-type {\n",
       "        vertical-align: middle;\n",
       "    }\n",
       "\n",
       "    .dataframe tbody tr th {\n",
       "        vertical-align: top;\n",
       "    }\n",
       "\n",
       "    .dataframe thead th {\n",
       "        text-align: right;\n",
       "    }\n",
       "</style>\n",
       "<table border=\"1\" class=\"dataframe\">\n",
       "  <thead>\n",
       "    <tr style=\"text-align: right;\">\n",
       "      <th></th>\n",
       "    </tr>\n",
       "  </thead>\n",
       "  <tbody>\n",
       "  </tbody>\n",
       "</table>\n",
       "</div>"
      ],
      "text/plain": [
       "Empty DataFrame\n",
       "Columns: []\n",
       "Index: []"
      ]
     },
     "execution_count": 85,
     "metadata": {},
     "output_type": "execute_result"
    }
   ],
   "source": [
    "ttwenty_scorecard"
   ]
  },
  {
   "cell_type": "code",
   "execution_count": 86,
   "metadata": {
    "ExecuteTime": {
     "end_time": "2019-11-07T19:16:09.095330Z",
     "start_time": "2019-11-07T19:16:09.061424Z"
    },
    "colab": {},
    "colab_type": "code",
    "id": "Ecumyt2xPEXz"
   },
   "outputs": [
    {
     "data": {
      "text/html": [
       "<div>\n",
       "<style scoped>\n",
       "    .dataframe tbody tr th:only-of-type {\n",
       "        vertical-align: middle;\n",
       "    }\n",
       "\n",
       "    .dataframe tbody tr th {\n",
       "        vertical-align: top;\n",
       "    }\n",
       "\n",
       "    .dataframe thead th {\n",
       "        text-align: right;\n",
       "    }\n",
       "</style>\n",
       "<table border=\"1\" class=\"dataframe\">\n",
       "  <thead>\n",
       "    <tr style=\"text-align: right;\">\n",
       "      <th></th>\n",
       "      <th>file_no</th>\n",
       "      <th>team_0</th>\n",
       "      <th>team_1</th>\n",
       "      <th>gender</th>\n",
       "      <th>season</th>\n",
       "      <th>date_0</th>\n",
       "      <th>series</th>\n",
       "      <th>match_number</th>\n",
       "      <th>venue</th>\n",
       "      <th>city</th>\n",
       "      <th>...</th>\n",
       "      <th>toss_decision</th>\n",
       "      <th>player_of_match</th>\n",
       "      <th>umpire_0</th>\n",
       "      <th>umpire_1</th>\n",
       "      <th>reserve_umpire</th>\n",
       "      <th>tv_umpire</th>\n",
       "      <th>match_referee</th>\n",
       "      <th>winner</th>\n",
       "      <th>winner_runs</th>\n",
       "      <th>index</th>\n",
       "    </tr>\n",
       "  </thead>\n",
       "  <tbody>\n",
       "    <tr>\n",
       "      <th>0</th>\n",
       "      <td>1019975</td>\n",
       "      <td>New Zealand</td>\n",
       "      <td>Bangladesh</td>\n",
       "      <td>male</td>\n",
       "      <td>2016/17</td>\n",
       "      <td>2016/12/29</td>\n",
       "      <td>Bangladesh in New Zealand ODI Series</td>\n",
       "      <td>2</td>\n",
       "      <td>Saxton Oval</td>\n",
       "      <td>Nelson</td>\n",
       "      <td>...</td>\n",
       "      <td>field</td>\n",
       "      <td>NT Broom</td>\n",
       "      <td>CM Brown</td>\n",
       "      <td>PR Reiffel</td>\n",
       "      <td>WR Knights</td>\n",
       "      <td>C Shamshuddin</td>\n",
       "      <td>BC Broad</td>\n",
       "      <td>New Zealand</td>\n",
       "      <td>67</td>\n",
       "      <td>0</td>\n",
       "    </tr>\n",
       "  </tbody>\n",
       "</table>\n",
       "<p>1 rows × 21 columns</p>\n",
       "</div>"
      ],
      "text/plain": [
       "   file_no       team_0      team_1 gender   season      date_0  \\\n",
       "0  1019975  New Zealand  Bangladesh   male  2016/17  2016/12/29   \n",
       "\n",
       "                                 series match_number        venue    city  \\\n",
       "0  Bangladesh in New Zealand ODI Series            2  Saxton Oval  Nelson   \n",
       "\n",
       "   ... toss_decision player_of_match  umpire_0    umpire_1 reserve_umpire  \\\n",
       "0  ...         field        NT Broom  CM Brown  PR Reiffel     WR Knights   \n",
       "\n",
       "       tv_umpire match_referee       winner winner_runs index  \n",
       "0  C Shamshuddin      BC Broad  New Zealand          67     0  \n",
       "\n",
       "[1 rows x 21 columns]"
      ]
     },
     "execution_count": 86,
     "metadata": {},
     "output_type": "execute_result"
    }
   ],
   "source": [
    "odi_info"
   ]
  },
  {
   "cell_type": "code",
   "execution_count": 87,
   "metadata": {
    "ExecuteTime": {
     "end_time": "2019-11-07T19:16:10.144972Z",
     "start_time": "2019-11-07T19:16:10.117814Z"
    }
   },
   "outputs": [
    {
     "data": {
      "text/plain": [
       "25.3    2\n",
       "0.0     2\n",
       "42.5    2\n",
       "28.4    1\n",
       "22.5    1\n",
       "46.5    1\n",
       "7.2     1\n",
       "30.4    1\n",
       "13.1    1\n",
       "39.3    1\n",
       "22.6    1\n",
       "32.4    1\n",
       "45.2    1\n",
       "31.3    1\n",
       "36.4    1\n",
       "37.3    1\n",
       "0.4     1\n",
       "49.6    1\n",
       "10.5    1\n",
       "Name: fall-of-wicket-overs, dtype: int64"
      ]
     },
     "execution_count": 87,
     "metadata": {},
     "output_type": "execute_result"
    }
   ],
   "source": [
    "odi_scorecard['fall-of-wicket-overs'].value_counts()"
   ]
  },
  {
   "cell_type": "code",
   "execution_count": 149,
   "metadata": {
    "ExecuteTime": {
     "end_time": "2019-10-19T13:49:15.932455Z",
     "start_time": "2019-10-19T13:49:15.782149Z"
    },
    "colab": {},
    "colab_type": "code",
    "id": "CQIOoDRgVp7a"
   },
   "outputs": [],
   "source": [
    "odi_info.to_csv('./odi_info.csv',index=False)\n",
    "ttwenty_info.to_csv('./ttwenty_info.csv',index=False)\n",
    "odi_scorecard.to_csv('./odi_scorecard.csv',index=False)\n",
    "ttwenty_scorecard.to_csv('./ttwenty_scorecard.csv',index=False)"
   ]
  },
  {
   "cell_type": "code",
   "execution_count": null,
   "metadata": {},
   "outputs": [],
   "source": []
  }
 ],
 "metadata": {
  "colab": {
   "collapsed_sections": [],
   "name": "bi_cricket.ipynb",
   "provenance": []
  },
  "kernelspec": {
   "display_name": "Python 3",
   "language": "python",
   "name": "python3"
  },
  "language_info": {
   "codemirror_mode": {
    "name": "ipython",
    "version": 3
   },
   "file_extension": ".py",
   "mimetype": "text/x-python",
   "name": "python",
   "nbconvert_exporter": "python",
   "pygments_lexer": "ipython3",
   "version": "3.6.8"
  },
  "varInspector": {
   "cols": {
    "lenName": 16,
    "lenType": 16,
    "lenVar": 40
   },
   "kernels_config": {
    "python": {
     "delete_cmd_postfix": "",
     "delete_cmd_prefix": "del ",
     "library": "var_list.py",
     "varRefreshCmd": "print(var_dic_list())"
    },
    "r": {
     "delete_cmd_postfix": ") ",
     "delete_cmd_prefix": "rm(",
     "library": "var_list.r",
     "varRefreshCmd": "cat(var_dic_list()) "
    }
   },
   "position": {
    "height": "372px",
    "left": "563px",
    "right": "20px",
    "top": "157px",
    "width": "589px"
   },
   "types_to_exclude": [
    "module",
    "function",
    "builtin_function_or_method",
    "instance",
    "_Feature"
   ],
   "window_display": false
  }
 },
 "nbformat": 4,
 "nbformat_minor": 1
}
