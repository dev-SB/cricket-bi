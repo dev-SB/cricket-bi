{
 "cells": [
  {
   "cell_type": "code",
   "execution_count": 2,
   "metadata": {
    "ExecuteTime": {
     "end_time": "2019-10-31T22:44:32.231531Z",
     "start_time": "2019-10-31T22:44:32.219718Z"
    }
   },
   "outputs": [],
   "source": [
    "import pandas as pd"
   ]
  },
  {
   "cell_type": "code",
   "execution_count": 11,
   "metadata": {
    "ExecuteTime": {
     "end_time": "2019-10-31T23:44:14.042558Z",
     "start_time": "2019-10-31T23:44:13.948419Z"
    }
   },
   "outputs": [],
   "source": [
    "df_info=pd.read_csv(r'./full/odi_info.csv')"
   ]
  },
  {
   "cell_type": "code",
   "execution_count": 151,
   "metadata": {
    "ExecuteTime": {
     "end_time": "2019-10-31T22:28:43.444625Z",
     "start_time": "2019-10-31T22:28:43.318332Z"
    }
   },
   "outputs": [],
   "source": [
    "df_scorecard=pd.read_csv(r'./full/odi_scorecard.csv')"
   ]
  },
  {
   "cell_type": "code",
   "execution_count": 146,
   "metadata": {
    "ExecuteTime": {
     "end_time": "2019-10-31T22:28:00.868384Z",
     "start_time": "2019-10-31T22:28:00.748369Z"
    }
   },
   "outputs": [],
   "source": [
    "df_scorecard = df_scorecard.astype({\"match-id\": str,'innings':str})"
   ]
  },
  {
   "cell_type": "code",
   "execution_count": 7,
   "metadata": {
    "ExecuteTime": {
     "end_time": "2019-10-31T23:42:04.854448Z",
     "start_time": "2019-10-31T23:42:04.822045Z"
    }
   },
   "outputs": [],
   "source": [
    "df_info=df_info.drop(['eliminator','date_1','date_2','date_3','date_4'],axis=1)\n",
    "# df_info=df_info.drop(['date_2','date_3','date_4'],axis=1)\n",
    "# df_info=df_info.drop(['date_1'],axis=1)"
   ]
  },
  {
   "cell_type": "code",
   "execution_count": 12,
   "metadata": {
    "ExecuteTime": {
     "end_time": "2019-10-31T23:44:16.932583Z",
     "start_time": "2019-10-31T23:44:16.896431Z"
    }
   },
   "outputs": [],
   "source": [
    "df_info=df_info.drop(['winner-innings'],axis=1)"
   ]
  },
  {
   "cell_type": "code",
   "execution_count": 13,
   "metadata": {
    "ExecuteTime": {
     "end_time": "2019-10-31T23:44:20.843349Z",
     "start_time": "2019-10-31T23:44:20.825445Z"
    }
   },
   "outputs": [],
   "source": [
    "df_info=df_info.drop(['index'],axis=1)"
   ]
  },
  {
   "cell_type": "code",
   "execution_count": 109,
   "metadata": {
    "ExecuteTime": {
     "end_time": "2019-10-31T22:10:53.409982Z",
     "start_time": "2019-10-31T22:10:53.404438Z"
    }
   },
   "outputs": [],
   "source": [
    "# useless files: 1050229,1022599,426423,915773"
   ]
  },
  {
   "cell_type": "code",
   "execution_count": 14,
   "metadata": {
    "ExecuteTime": {
     "end_time": "2019-10-31T23:44:23.828124Z",
     "start_time": "2019-10-31T23:44:23.762756Z"
    }
   },
   "outputs": [],
   "source": [
    "df_info.drop(df_info[df_info['match-id']=='1050229'].index,inplace=True)"
   ]
  },
  {
   "cell_type": "code",
   "execution_count": 15,
   "metadata": {
    "ExecuteTime": {
     "end_time": "2019-10-31T23:44:24.340935Z",
     "start_time": "2019-10-31T23:44:24.319124Z"
    }
   },
   "outputs": [],
   "source": [
    "df_info.drop(df_info[df_info['match-id']=='1022599'].index,inplace=True)"
   ]
  },
  {
   "cell_type": "code",
   "execution_count": 131,
   "metadata": {
    "ExecuteTime": {
     "end_time": "2019-10-31T22:26:03.094869Z",
     "start_time": "2019-10-31T22:26:03.062460Z"
    }
   },
   "outputs": [],
   "source": [
    "df_info.drop(df_info[df_info['match-id']=='426423'].index,inplace=True)"
   ]
  },
  {
   "cell_type": "code",
   "execution_count": 132,
   "metadata": {
    "ExecuteTime": {
     "end_time": "2019-10-31T22:26:03.810429Z",
     "start_time": "2019-10-31T22:26:03.750443Z"
    }
   },
   "outputs": [],
   "source": [
    "df_info.drop(df_info[df_info['match-id']=='915773'].index,inplace=True)"
   ]
  },
  {
   "cell_type": "code",
   "execution_count": 137,
   "metadata": {
    "ExecuteTime": {
     "end_time": "2019-10-31T22:27:14.747942Z",
     "start_time": "2019-10-31T22:27:14.691113Z"
    }
   },
   "outputs": [],
   "source": [
    "df_scorecard.drop(df_scorecard[df_scorecard['match-id']=='1050229'].index,inplace=True)"
   ]
  },
  {
   "cell_type": "code",
   "execution_count": 138,
   "metadata": {
    "ExecuteTime": {
     "end_time": "2019-10-31T22:27:15.355933Z",
     "start_time": "2019-10-31T22:27:15.301468Z"
    }
   },
   "outputs": [],
   "source": [
    "df_scorecard.drop(df_scorecard[df_scorecard['match-id']=='1022599'].index,inplace=True)"
   ]
  },
  {
   "cell_type": "code",
   "execution_count": 139,
   "metadata": {
    "ExecuteTime": {
     "end_time": "2019-10-31T22:27:15.904083Z",
     "start_time": "2019-10-31T22:27:15.849172Z"
    }
   },
   "outputs": [],
   "source": [
    "df_scorecard.drop(df_scorecard[df_scorecard['match-id']=='426423'].index,inplace=True)"
   ]
  },
  {
   "cell_type": "code",
   "execution_count": 140,
   "metadata": {
    "ExecuteTime": {
     "end_time": "2019-10-31T22:27:16.415272Z",
     "start_time": "2019-10-31T22:27:16.378695Z"
    }
   },
   "outputs": [],
   "source": [
    "df_scorecard.drop(df_scorecard[df_scorecard['match-id']=='915773'].index,inplace=True)"
   ]
  },
  {
   "cell_type": "code",
   "execution_count": 49,
   "metadata": {
    "ExecuteTime": {
     "end_time": "2019-10-31T21:45:15.052677Z",
     "start_time": "2019-10-31T21:45:15.031510Z"
    }
   },
   "outputs": [],
   "source": [
    "# df_scorecard.drop(['Unnamed: 0','Unnamed: 0.1'],axis=1,inplace=True)"
   ]
  },
  {
   "cell_type": "code",
   "execution_count": 118,
   "metadata": {
    "ExecuteTime": {
     "end_time": "2019-10-31T22:11:25.942994Z",
     "start_time": "2019-10-31T22:11:25.910774Z"
    }
   },
   "outputs": [
    {
     "data": {
      "text/html": [
       "<div>\n",
       "<style scoped>\n",
       "    .dataframe tbody tr th:only-of-type {\n",
       "        vertical-align: middle;\n",
       "    }\n",
       "\n",
       "    .dataframe tbody tr th {\n",
       "        vertical-align: top;\n",
       "    }\n",
       "\n",
       "    .dataframe thead th {\n",
       "        text-align: right;\n",
       "    }\n",
       "</style>\n",
       "<table border=\"1\" class=\"dataframe\">\n",
       "  <thead>\n",
       "    <tr style=\"text-align: right;\">\n",
       "      <th></th>\n",
       "      <th>match-id</th>\n",
       "      <th>innings</th>\n",
       "      <th>name</th>\n",
       "      <th>batting-position</th>\n",
       "      <th>over-batsman</th>\n",
       "      <th>runs-scored</th>\n",
       "      <th>balls-played</th>\n",
       "      <th>dots</th>\n",
       "      <th>ones</th>\n",
       "      <th>twos</th>\n",
       "      <th>...</th>\n",
       "      <th>sixes</th>\n",
       "      <th>wicket-method</th>\n",
       "      <th>balls-bowled</th>\n",
       "      <th>maiden-overs</th>\n",
       "      <th>runs-given</th>\n",
       "      <th>extras</th>\n",
       "      <th>fall-of-wicket-score</th>\n",
       "      <th>fall-of-wicket-overs</th>\n",
       "      <th>fall-of-wicket-no</th>\n",
       "      <th>fall-of-wicket-bowler</th>\n",
       "    </tr>\n",
       "  </thead>\n",
       "  <tbody>\n",
       "  </tbody>\n",
       "</table>\n",
       "<p>0 rows × 22 columns</p>\n",
       "</div>"
      ],
      "text/plain": [
       "Empty DataFrame\n",
       "Columns: [match-id, innings, name, batting-position, over-batsman, runs-scored, balls-played, dots, ones, twos, threes, fours, sixes, wicket-method, balls-bowled, maiden-overs, runs-given, extras, fall-of-wicket-score, fall-of-wicket-overs, fall-of-wicket-no, fall-of-wicket-bowler]\n",
       "Index: []\n",
       "\n",
       "[0 rows x 22 columns]"
      ]
     },
     "execution_count": 118,
     "metadata": {},
     "output_type": "execute_result"
    }
   ],
   "source": [
    "df_scorecard[df_scorecard['match-id']=='1144528']"
   ]
  },
  {
   "cell_type": "code",
   "execution_count": 152,
   "metadata": {
    "ExecuteTime": {
     "end_time": "2019-10-31T22:28:50.023978Z",
     "start_time": "2019-10-31T22:28:49.012927Z"
    }
   },
   "outputs": [],
   "source": [
    "df_scorecard.to_csv(r'./full/odi_scorecard.csv',index=False)"
   ]
  },
  {
   "cell_type": "code",
   "execution_count": 8,
   "metadata": {
    "ExecuteTime": {
     "end_time": "2019-10-31T23:42:10.556114Z",
     "start_time": "2019-10-31T23:42:10.442761Z"
    }
   },
   "outputs": [],
   "source": [
    "df_info.to_csv(r'./full/odi_info.csv',index=False)"
   ]
  },
  {
   "cell_type": "code",
   "execution_count": null,
   "metadata": {},
   "outputs": [],
   "source": []
  }
 ],
 "metadata": {
  "kernelspec": {
   "display_name": "Python 3",
   "language": "python",
   "name": "python3"
  },
  "language_info": {
   "codemirror_mode": {
    "name": "ipython",
    "version": 3
   },
   "file_extension": ".py",
   "mimetype": "text/x-python",
   "name": "python",
   "nbconvert_exporter": "python",
   "pygments_lexer": "ipython3",
   "version": "3.6.8"
  },
  "varInspector": {
   "cols": {
    "lenName": 16,
    "lenType": 16,
    "lenVar": 40
   },
   "kernels_config": {
    "python": {
     "delete_cmd_postfix": "",
     "delete_cmd_prefix": "del ",
     "library": "var_list.py",
     "varRefreshCmd": "print(var_dic_list())"
    },
    "r": {
     "delete_cmd_postfix": ") ",
     "delete_cmd_prefix": "rm(",
     "library": "var_list.r",
     "varRefreshCmd": "cat(var_dic_list()) "
    }
   },
   "types_to_exclude": [
    "module",
    "function",
    "builtin_function_or_method",
    "instance",
    "_Feature"
   ],
   "window_display": false
  }
 },
 "nbformat": 4,
 "nbformat_minor": 2
}
